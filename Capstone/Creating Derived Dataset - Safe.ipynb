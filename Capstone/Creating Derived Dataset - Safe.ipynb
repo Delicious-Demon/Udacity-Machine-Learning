{
 "cells": [
  {
   "cell_type": "code",
   "execution_count": 14,
   "metadata": {},
   "outputs": [],
   "source": [
    "// Load IP2Location sym file and apply unique attribute\n",
    "load`$\"<REDACTED>\";\n",
    "ipSym:`u#ipSym;\n",
    "//Load IP2Location table\n",
    "load`$\"<REDACTED>\";\n",
    "// Memory map IP2Location table\n",
    "`<REDACTED> set -23!latest;"
   ]
  },
  {
   "cell_type": "code",
   "execution_count": 15,
   "metadata": {},
   "outputs": [],
   "source": [
    "// Load AMDB sym file and apply unique attribute\n",
    "load`$\"<REDACTED>\";\n",
    "amdbSym:`u#<REDACTED>;\n",
    "//Load AMDB table\n",
    "load`$\"<REDACTED>\";\n",
    "// Memory map accountRooftop table\n",
    "`<REDACTED> set -23!<REDACTED>;"
   ]
  },
  {
   "cell_type": "code",
   "execution_count": 10,
   "metadata": {},
   "outputs": [
    {
     "data": {
      "text/plain": [
       "`sample_DMCIPListening\n"
      ]
     },
     "execution_count": 10,
     "metadata": {},
     "output_type": "execute_result"
    },
    {
     "data": {
      "text/plain": [
       "`sample_displayClicks\n"
      ]
     },
     "execution_count": 10,
     "metadata": {},
     "output_type": "execute_result"
    },
    {
     "data": {
      "text/plain": [
       "iabCat| x       \n",
       "------| --------\n",
       "IAB_19| 16251350\n",
       "IAB_12| 15813876\n",
       "IAB_1 | 6667752 \n",
       "IAB_9 | 5306342 \n",
       "IAB_13| 4317539 \n",
       "IAB_5 | 3435528 \n",
       "IAB_17| 3381793 \n",
       "IAB_2 | 3086864 \n",
       "IAB_22| 2609367 \n",
       "IAB_18| 2603529 \n",
       "IAB_3 | 1504153 \n",
       "IAB_15| 1502963 \n",
       "IAB_7 | 1477806 \n",
       "IAB_10| 1345270 \n",
       "IAB_21| 952165  \n",
       "IAB_24| 900513  \n",
       "IAB_4 | 705917  \n",
       "IAB_26| 632545  \n",
       "IAB_14| 553715  \n",
       "IAB_20| 323956  \n",
       "IAB_8 | 322736  \n",
       "IAB_6 | 213837  \n",
       "IAB_11| 101936  \n",
       "IAB_23| 76871   \n",
       "IAB_16| 39003   \n",
       "IAB_25| 501     \n"
      ]
     },
     "execution_count": 10,
     "metadata": {},
     "output_type": "execute_result"
    }
   ],
   "source": [
    "//Get Sample data\n",
    "`sample_DMCIPListening set get hsym `$\"/sharedfolder/cbath/Udacity_Bath/sample_DMCIPListening\"\n",
    "`sample_displayClicks set get hsym `$\"/sharedfolder/cbath/Udacity_Bath/sample_displayClicks\""
   ]
  },
  {
   "cell_type": "code",
   "execution_count": 50,
   "metadata": {},
   "outputs": [
    {
     "data": {
      "text/plain": [
       "iabCat| category_hits percentage  \n",
       "------| --------------------------\n",
       "IAB_19| 54438930      22.8086     \n",
       "IAB_12| 46720538      19.57478    \n",
       "IAB_22| 21940571      9.192569    \n",
       "IAB_13| 17058480      7.147091    \n",
       "IAB_2 | 15699047      6.577521    \n",
       "IAB_9 | 15554319      6.516884    \n",
       "IAB_15| 12930970      5.417764    \n",
       "IAB_1 | 12834545      5.377364    \n",
       "IAB_5 | 10042655      4.20763     \n",
       "IAB_17| 5476575       2.294553    \n",
       "IAB_18| 4632997       1.941114    \n",
       "IAB_4 | 4564783       1.912534    \n",
       "IAB_3 | 3421448       1.433504    \n",
       "IAB_7 | 3062883       1.283274    \n",
       "IAB_21| 2329386       0.9759564   \n",
       "IAB_10| 2268393       0.9504018   \n",
       "IAB_24| 1795450       0.7522501   \n",
       "IAB_26| 1340668       0.5617075   \n",
       "IAB_14| 1021625       0.4280362   \n",
       "IAB_20| 498133        0.2087057   \n",
       "IAB_8 | 412716        0.172918    \n",
       "IAB_6 | 326080        0.1366196   \n",
       "IAB_11| 166057        0.06957387  \n",
       "IAB_23| 89640         0.03755699  \n",
       "IAB_16| 49724         0.02083315  \n",
       "IAB_25| 643           0.0002694015\n"
      ]
     },
     "execution_count": 51,
     "metadata": {},
     "output_type": "execute_result"
    },
    {
     "data": {
      "text/plain": [
       "dates     | x      \n",
       "----------| -------\n",
       "2019.03.01| 2822119\n",
       "2019.03.02| 1028807\n",
       "2019.03.03| 912680 \n",
       "2019.03.04| 2984996\n",
       "2019.03.05| 3194964\n",
       "2019.03.06| 3198318\n",
       "2019.03.07| 3051411\n",
       "2019.03.08| 2801804\n",
       "2019.03.09| 940048 \n",
       "2019.03.10| 907217 \n",
       "2019.03.11| 3133880\n",
       "2019.03.12| 3556608\n",
       "2019.03.13| 3563747\n",
       "2019.03.14| 3336628\n",
       "2019.03.15| 2892899\n",
       "2019.03.16| 1005541\n",
       "2019.03.17| 921702 \n",
       "2019.03.18| 3286674\n",
       "2019.03.19| 3430769\n",
       "2019.03.20| 3093637\n",
       "2019.03.21| 3014266\n",
       "2019.03.22| 2717976\n",
       "2019.03.23| 954542 \n",
       "2019.03.24| 882644 \n",
       "2019.03.25| 3100017\n",
       "2019.03.26| 3152064\n",
       "2019.03.27| 3100503\n",
       "2019.03.28| 2886345\n",
       "2019.03.29| 2647127\n",
       "2019.03.30| 831684 \n",
       "2019.03.31| 776210 \n"
      ]
     },
     "execution_count": 51,
     "metadata": {},
     "output_type": "execute_result"
    },
    {
     "data": {
      "text/plain": [
       "c          | t f a\n",
       "-----------| -----\n",
       "dates      | d    \n",
       "domains    | s    \n",
       "company    | s    \n",
       "userDomain | s    \n",
       "city       | s    \n",
       "region     | s    \n",
       "countryCode| s    \n",
       "iabCat     | s    \n",
       "hits       | j    \n",
       "pageViews  | j    \n",
       "uniqueViews| j    \n"
      ]
     },
     "execution_count": 51,
     "metadata": {},
     "output_type": "execute_result"
    },
    {
     "ename": "\u001b[0;31mdomain\u001b[0m",
     "evalue": "\u001b[0;31mdomain\u001b[0m",
     "output_type": "error",
     "traceback": [
      "\u001b[0;31mevaluation error:\n\u001b[0m",
      "\u001b[0;31mdomain\u001b[0m",
      "\u001b[0;31m\u001b[0m",
      "\u001b[0;31m  [0]  desc select count i by domain from sample_DMCIPListening where iabCat = `IAB_22\n                   ^\n\u001b[0m"
     ]
    }
   ],
   "source": [
    "desc update percentage:100*category_hits % sum category_hits from  select category_hits:sum hits by iabCat from sample_DMCIPListening\n",
    "select count i by dates from sample_DMCIPListening\n",
    "meta sample_DMCIPListening\n",
    "desc select count i by domain from sample_DMCIPListening where iabCat = `IAB_22"
   ]
  },
  {
   "cell_type": "code",
   "execution_count": 12,
   "metadata": {},
   "outputs": [],
   "source": [
    "//Funks\n",
    ".reports.util.addMetricByLabelValueColumns:{[table;byCols;metricCol;labelCol] .debug.addPivotValueColumns.input:`table`byCols`metricCol`labelCol!(table;byCols;metricCol;labelCol);\n",
    "    //Clean Inputs \n",
    "    table: 0!table;\n",
    "    /table: @[0!table;exec c from meta[table] where t=\"s\";value]; /Remove enumeration and keys\n",
    "    byCols: distinct except[(),byCols;`];\n",
    "    metricCol: first (),metricCol;\n",
    "    labelCol: first (),labelCol;\n",
    "    //Function to create column for metrics by label condition\n",
    "    deriveMetric:{[metric;label;labelVal] (enlist `$string[metric],\"_\",string[label],\"_\",string `unknown^labelVal)!enlist(sum;(metric;(&:;(=;label;enlist labelVal))))};\n",
    "    sCl: raze deriveMetric[metricCol;labelCol;] each distinct table[labelCol];\n",
    "    //Return table with new columns\n",
    "    :?[0!table;();byCols!byCols;sCl];\n",
    " };\n",
    "\n",
    ".reports.util.getMetricsByGroup:{[table;countCols;sumCols;groupCols].debug.getMetricsByGroup.input:`table`countCols`sumCols`groupCols!(table;countCols;sumCols;groupCols);\n",
    "    //Enforce consistant list type\n",
    "    countCols,:();sumCols,:();groupCols,:();\n",
    "    //Remove nulls\n",
    "    countCols:countCols except `;sumCols:sumCols except `;groupCols:groupCols except `;\n",
    "    //Sanity checks for necessary details - groupCol can all be null\n",
    "    metricCols:countCols,sumCols;\t\n",
    "    if[(not count metricCols) or (count missing:(metricCols,groupCols) where not (metricCols,groupCols) in `i,cols table);\n",
    "        msg:\".reports.util.getMetricsByGroup - Unusable input parameters.Columns missing - \",raze string missing;\n",
    "        .log.warn[.z.h;msg;()];\n",
    "        'msg\n",
    "    ];\n",
    "    //By clause setup - enforced list type, so same treatment for atomic and list of group columns\n",
    "    byClause:$[count groupCols;(groupCols)!(groupCols);0b];\t\n",
    "    //Count (distinct) statement setup - change to generic metric names\n",
    "    countStatement:$[count countCols;raze{(enlist `$string[x],\"Count\")!(enlist(count;(distinct;x)))}each countCols;()];\n",
    "    //Sum statement setup - - change to generic metric names\n",
    "    sumStatement:$[count sumCols;raze{(enlist `$string[x],\"Sum\")!(enlist(sum;x))}each sumCols;()];\n",
    "    //Create Metrics table\n",
    "    resultsTab:?[table;();byClause;countStatement,sumStatement];\t\n",
    "    //Results schema must be consistant - TEMP HACK FOR KX DASHBOARD NOT REFRESHING EMPTY PIE CHARTS\n",
    "    resultsTab:$[count resultsTab;resultsTab;1#resultsTab];\n",
    "    //TODO - HACK FOR DASHBOARDS AS CANNOT HANDLE LONGS\n",
    "    :@[0!resultsTab;exec c from meta resultsTab where t in \"jl\";\"f\"$];\n",
    " };\n",
    "\n",
    ".reports.util.cleanText:{[table]\n",
    "    //kdb+ does not think to quote-escape symbols with commas, but it will if they're strings\n",
    "    table:@[table; exec c from meta[table]where t=\"s\";string];\n",
    "    //kdb+ does not think to quote-escape anything with line break characters, we have to do that ourselves\n",
    "    // but it *is* smart enough to quote-escape strings with quotes in them (go figure)\n",
    "    escapeNewLines: {?[\"\\n\" in/: x; \"\\\"\",/:x,'\"\\\"\"; x]};\n",
    "    table:@[table; exec c from meta[table]where t=\"C\";escapeNewLines];\n",
    "    :table;\n",
    " }"
   ]
  },
  {
   "cell_type": "code",
   "execution_count": 13,
   "metadata": {},
   "outputs": [],
   "source": [
    "//Build Dataset\n",
    "base: sample_DMCIPListening;\n",
    "display: sample_displayClicks\n",
    "//Attach \"account\" level metrics\n",
    "ipdbAccountCols:`company`userDomain`city`region`countryCode;\n",
    "//Hits by iabCat\n",
    "baseX1:.reports.util.addMetricByLabelValueColumns[base;ipdbAccountCols;`hits;`iabCat];\n",
    "//All other metrics\n",
    "baseX2: 0!.reports.util.getMetricsByGroup[base;`dates`domains;`hits`pageViews`uniqueViews;ipdbAccountCols];\n",
    "//Combine all data\n",
    "k:`company`userDomain`city`region;\n",
    "baseX:(lj/)(k xkey baseX2;k xkey `company`userDomain xcol `org`domain xcols display;k xkey baseX1);"
   ]
  },
  {
   "cell_type": "code",
   "execution_count": 16,
   "metadata": {},
   "outputs": [],
   "source": [
    "//Attach all account level labels and extra data\n",
    "baseX: select from ij[baseX; 4!select company:org, userDomain:domain,city,region,acct_id,hq_id,revenue_mil_usd,total_employees,naic3,naic6 from 0!<REDACTED>] where 0<count each hq_id;\n",
    "baseX: baseX lj 4!select company:org,userDomain:domain,city,region,isISP,usageType from <REDACTED>;"
   ]
  },
  {
   "cell_type": "code",
   "execution_count": 42,
   "metadata": {},
   "outputs": [
    {
     "data": {
      "text/plain": [
       "283329\n"
      ]
     },
     "execution_count": 42,
     "metadata": {},
     "output_type": "execute_result"
    },
    {
     "data": {
      "text/plain": [
       "c                 | t f a\n",
       "------------------| -----\n",
       "acct_id           | C    \n",
       "hq_id             | C    \n",
       "company           | C    \n",
       "userDomain        | C    \n",
       "city              | C    \n",
       "region            | C    \n",
       "countryCode       | C    \n",
       "revenue_mil_usd   | f    \n",
       "total_employees   | j    \n",
       "naic3             | h    \n",
       "naic6             | i    \n",
       "isISP             | b    \n",
       "usageType         | C    \n",
       "datesCount        | f    \n",
       "domainsCount      | f    \n",
       "hitsSum           | f    \n",
       "pageViewsSum      | f    \n",
       "uniqueViewsSum    | f    \n",
       "clicks            | j    \n",
       "clickDates        | j    \n",
       "hits_iabCat_IAB_1 | j    \n",
       "hits_iabCat_IAB_2 | j    \n",
       "hits_iabCat_IAB_3 | j    \n",
       "hits_iabCat_IAB_4 | j    \n",
       "hits_iabCat_IAB_5 | j    \n",
       "hits_iabCat_IAB_6 | j    \n",
       "hits_iabCat_IAB_7 | j    \n",
       "hits_iabCat_IAB_8 | j    \n",
       "hits_iabCat_IAB_9 | j    \n",
       "hits_iabCat_IAB_10| j    \n",
       "hits_iabCat_IAB_11| j    \n",
       "hits_iabCat_IAB_12| j    \n",
       "hits_iabCat_IAB_13| j    \n",
       "hits_iabCat_IAB_14| j    \n",
       "hits_iabCat_IAB_15| j    \n",
       "hits_iabCat_IAB_16| j    \n",
       "hits_iabCat_IAB_17| j    \n",
       "hits_iabCat_IAB_18| j    \n",
       "hits_iabCat_IAB_19| j    \n",
       "hits_iabCat_IAB_20| j    \n",
       "hits_iabCat_IAB_21| j    \n",
       "hits_iabCat_IAB_22| j    \n",
       "hits_iabCat_IAB_23| j    \n",
       "hits_iabCat_IAB_24| j    \n",
       "hits_iabCat_IAB_25| j    \n",
       "hits_iabCat_IAB_26| j    \n"
      ]
     },
     "execution_count": 42,
     "metadata": {},
     "output_type": "execute_result"
    }
   ],
   "source": [
    "//Tidy up data\n",
    "accountCols:`acct_id`hq_id`company`userDomain`city`region`countryCode`revenue_mil_usd`total_employees`naic3`naic6`isISP`usageType;\n",
    "//Nice IAB Order\n",
    "a:cols[baseX] where cols[baseX] like \"hits_*\";\n",
    "iabCols:key asc a!\"I\"$(\"IAB_\" vs/: string a)[;1];\n",
    "metricCols:distinct `datesCount`domainsCount`hitsSum`pageViewsSum`uniqueViewsSum`clicks`clickDates,iabCols;\n",
    "final: accountCols xcols 0!baseX;\n",
    "final: @[final;metricCols;0^];\n",
    "final: (accountCols,metricCols) xcols .reports.util.cleanText[final];\n",
    "\n",
    "//q Table (FLat and dirty)\n",
    "(hsym `$\"/sharedfolder/cbath/Udacity_Bath/sample_model_data\") set final;\n",
    "\n",
    "//CSV\n",
    "(hsym `$\"/sharedfolder/cbath/Udacity_Bath/sample_model_data.csv\") 0: \",\" 0: final;\n",
    "\n",
    "count final\n",
    "meta final\n"
   ]
  }
 ],
 "metadata": {
  "kernelspec": {
   "display_name": "Q 3.5",
   "language": "q",
   "name": "qpk"
  },
  "language_info": {
   "file_extension": ".q",
   "mimetype": "text/x-q",
   "name": "q",
   "version": "3.5.0"
  },
  "latex_envs": {
   "LaTeX_envs_menu_present": true,
   "autoclose": false,
   "autocomplete": true,
   "bibliofile": "biblio.bib",
   "cite_by": "apalike",
   "current_citInitial": 1,
   "eqLabelWithNumbers": true,
   "eqNumInitial": 1,
   "hotkeys": {
    "equation": "Ctrl-E",
    "itemize": "Ctrl-I"
   },
   "labels_anchors": false,
   "latex_user_defs": false,
   "report_style_numbering": false,
   "user_envs_cfg": false
  }
 },
 "nbformat": 4,
 "nbformat_minor": 2
}
