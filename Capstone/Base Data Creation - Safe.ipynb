{
 "cells": [
  {
   "cell_type": "code",
   "execution_count": 1,
   "metadata": {},
   "outputs": [],
   "source": [
    "//Table creation\n",
    ".bath.craigFlatTable:`$\":/sharedfolder/cbath/Udacity_Bath/sample_DMCIPListening\"\n",
    ".bath.craigDisplayTable:`$\":/sharedfolder/cbath/Udacity_Bath/sample_displayClicks\""
   ]
  },
  {
   "cell_type": "code",
   "execution_count": null,
   "metadata": {},
   "outputs": [],
   "source": [
    "// Load IP2Location sym file and apply unique attribute\n",
    "load`$\"<REDACTED>\";\n",
    "ipSym:`u#ipSym;\n",
    "//Load IP2Location table\n",
    "load`$\"<REDACTED>\";\n",
    "// Memory map IP2Location table\n",
    "`IP2Location set -23!latest;"
   ]
  },
  {
   "cell_type": "code",
   "execution_count": null,
   "metadata": {},
   "outputs": [],
   "source": [
    "// Load AMDB sym file and apply unique attribute\n",
    "load`$\"<REDACTED>\";\n",
    "amdbSym:`u#amdbSym;\n",
    "//Load AMDB table\n",
    "load`$\"<REDACTED>\";\n",
    "// Memory map accountRooftop table\n",
    "`accountRooftop set -23!accountRooftop;"
   ]
  },
  {
   "cell_type": "code",
   "execution_count": 3,
   "metadata": {},
   "outputs": [],
   "source": [
    "// Load keyword activity data directory\n",
    "system\"l <REDACTED>\""
   ]
  },
  {
   "cell_type": "code",
   "execution_count": 4,
   "metadata": {},
   "outputs": [
    {
     "name": "stdout",
     "output_type": "stream",
     "text": [
      "\"Getting data for 2019.03.01\"\n"
     ]
    },
    {
     "data": {
      "text/plain": [
       "2019.03.01 2019.03.31\n"
      ]
     },
     "execution_count": 4,
     "metadata": {},
     "output_type": "execute_result"
    }
   ],
   "source": [
    "//Setup parameters\n",
    "days:31;\n",
    "startDate: 2019.03.01;\n",
    "dates: startDate + til days;\n",
    "(first dates;last dates)"
   ]
  },
  {
   "cell_type": "code",
   "execution_count": 6,
   "metadata": {},
   "outputs": [
    {
     "name": "stdout",
     "output_type": "stream",
     "text": [
      "\"Gotten  data for 2019.03.01. Rows returned = 2822119. Process time = 0D00:00:08.203080000\"\n"
     ]
    },
    {
     "data": {
      "text/plain": [
       "`:/app/prelytix/kxinstall/delta-data/cbath/Udacity/sample_DMCIPListening\n"
      ]
     },
     "execution_count": 6,
     "metadata": {},
     "output_type": "execute_result"
    },
    {
     "name": "stdout",
     "output_type": "stream",
     "text": [
      "\"Processing...\"\n",
      "\"Getting data for 2019.03.02\"\n"
     ]
    }
   ],
   "source": [
    "//Create base data from DMCIPListening\n",
    ".bath.createDateSample:{[x]\n",
    "    start:.z.p;\n",
    "    show\"Getting data for \",string[x];\n",
    "    base:select hits:count i, sum pageViews,uniqueViews: sum unique\n",
    "         by  dates:date, domains: domain, company,userDomain,city,region:state, countryCode:country,iabCat\n",
    "         from <REDACTED>\n",
    "         where date =x;    \n",
    "    //Remove enumeration\n",
    "    base:@[0!base;exec c from meta[base] where t=\"s\";value];\n",
    "    //Convert to parent IAB category for analysis\n",
    "    parentCat:{`$\"IAB_\",/: (\"-\" vs/: string x)[;0]};\n",
    "    base:update iabCat:.Q.fu[parentCat;`unknown^iabCat] from base;\n",
    "    show\"Gotten  data for \",string[x],\". Rows returned = \", string[count base],\". Process time = \", string .z.p - start;\n",
    "    :base;\n",
    " };\n",
    "\n",
    "//Create initial flat table\n",
    ".bath.craigFlatTable set .bath.createDateSample[first dates]\n"
   ]
  },
  {
   "cell_type": "code",
   "execution_count": null,
   "metadata": {},
   "outputs": [
    {
     "name": "stdout",
     "output_type": "stream",
     "text": [
      "\"Gotten  data for 2019.03.02. Rows returned = 1028807. Process time = 0D00:00:02.514452000\"\n",
      "\"Getting data for 2019.03.03\"\n",
      "\"Gotten  data for 2019.03.03. Rows returned = 912680. Process time = 0D00:00:02.297354000\"\n",
      "\"Getting data for 2019.03.04\"\n",
      "\"Gotten  data for 2019.03.04. Rows returned = 2984996. Process time = 0D00:00:08.580888000\"\n",
      "\"Getting data for 2019.03.05\"\n",
      "\"Gotten  data for 2019.03.05. Rows returned = 3194964. Process time = 0D00:00:09.349600000\"\n",
      "\"Getting data for 2019.03.06\"\n",
      "\"Gotten  data for 2019.03.06. Rows returned = 3198318. Process time = 0D00:00:09.338185000\"\n",
      "\"Getting data for 2019.03.07\"\n"
     ]
    }
   ],
   "source": [
    "//Upsert following dates individually to prevent memory issyes\n",
    "show\"Processing...\"\n",
    ".bath.createFull:{[date]\n",
    "    .bath.craigFlatTable upsert .bath.createDateSample[date];\n",
    "    .Q.gc[];\n",
    " };\n",
    ".bath.createFull each dates except first dates\n",
    "show\"Processed\""
   ]
  },
  {
   "cell_type": "code",
   "execution_count": null,
   "metadata": {},
   "outputs": [],
   "source": [
    "//Load Click data\n",
    "system\"l <REDACTED>\";"
   ]
  },
  {
   "cell_type": "code",
   "execution_count": null,
   "metadata": {},
   "outputs": [],
   "source": [
    "//Small enough to manage in-memory\n",
    "base:update `s#ipStart from `ipStart xasc select clicks:count i, clickDates:count distinct date by ipStart:ip from <REDACTED> where date in dates\n",
    "//Grab location details from IP address\n",
    "base:delete ipStart from aj[`ipStart;base;select ipStart,org,domain,city,region,countryCode  from <REDACTED>]\n",
    "\n",
    ".bath.craigDisplayTable set  base:@[0!base;exec c from meta[base] where t=\"s\";value]"
   ]
  }
 ],
 "metadata": {
  "kernelspec": {
   "display_name": "Q 3.5",
   "language": "q",
   "name": "qpk"
  },
  "language_info": {
   "file_extension": ".q",
   "mimetype": "text/x-q",
   "name": "q",
   "version": "3.5.0"
  },
  "latex_envs": {
   "LaTeX_envs_menu_present": true,
   "autoclose": false,
   "autocomplete": true,
   "bibliofile": "biblio.bib",
   "cite_by": "apalike",
   "current_citInitial": 1,
   "eqLabelWithNumbers": true,
   "eqNumInitial": 1,
   "hotkeys": {
    "equation": "Ctrl-E",
    "itemize": "Ctrl-I"
   },
   "labels_anchors": false,
   "latex_user_defs": false,
   "report_style_numbering": false,
   "user_envs_cfg": false
  }
 },
 "nbformat": 4,
 "nbformat_minor": 2
}
